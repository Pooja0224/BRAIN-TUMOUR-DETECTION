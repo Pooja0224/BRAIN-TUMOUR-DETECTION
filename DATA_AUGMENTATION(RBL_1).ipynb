{
  "nbformat": 4,
  "nbformat_minor": 0,
  "metadata": {
    "colab": {
      "name": "DATA AUGMENTATION(RBL-1).ipynb",
      "provenance": [],
      "toc_visible": true
    },
    "kernelspec": {
      "name": "python3",
      "display_name": "Python 3"
    }
  },
  "cells": [
    {
      "cell_type": "code",
      "metadata": {
        "id": "h043N2FfqoqR",
        "colab_type": "code",
        "colab": {
          "base_uri": "https://localhost:8080/",
          "height": 34
        },
        "outputId": "0a01dcc8-644c-4742-de2e-7b79116e316f"
      },
      "source": [
        "import tensorflow as tf\n",
        "from keras.preprocessing.image import ImageDataGenerator\n",
        "import cv2\n",
        "import imutils\n",
        "import matplotlib.pyplot as plt\n",
        "from os import listdir\n",
        "import time    \n",
        "%matplotlib inline"
      ],
      "execution_count": null,
      "outputs": [
        {
          "output_type": "stream",
          "text": [
            "Using TensorFlow backend.\n"
          ],
          "name": "stderr"
        }
      ]
    },
    {
      "cell_type": "code",
      "metadata": {
        "id": "GIbz7J-Eq6W_",
        "colab_type": "code",
        "colab": {}
      },
      "source": [
        "def hms_string(sec_elapsed):\n",
        "    h = int(sec_elapsed / (60 * 60))\n",
        "    m = int((sec_elapsed % (60 * 60)) / 60)\n",
        "    s = sec_elapsed % 60\n",
        "    return f\"{h}:{m}:{round(s,1)}\""
      ],
      "execution_count": null,
      "outputs": []
    },
    {
      "cell_type": "code",
      "metadata": {
        "id": "uSB9hPiUq-N6",
        "colab_type": "code",
        "colab": {}
      },
      "source": [
        "def augment_data(file_dir, n_generated_samples, save_to_dir):\n",
        "   \n",
        "    from keras.preprocessing.image import ImageDataGenerator\n",
        "    from os import listdir\n",
        "    \n",
        "    data_gen = ImageDataGenerator(rotation_range=10, \n",
        "                                  width_shift_range=0.1, \n",
        "                                  height_shift_range=0.1, \n",
        "                                  shear_range=0.1, \n",
        "                                  brightness_range=(0.3, 1.0),\n",
        "                                  horizontal_flip=True, \n",
        "                                  vertical_flip=True, \n",
        "                                  fill_mode='nearest'\n",
        "                                 )\n",
        "\n",
        "    \n",
        "    for filename in listdir(file_dir):\n",
        "        image = cv2.imread(file_dir + '/' + filename)\n",
        "        image = image.reshape((1,)+image.shape)\n",
        "        save_prefix = 'aug_' + filename\n",
        "        i=0\n",
        "        for batch in data_gen.flow(x=image, batch_size=1, save_to_dir=save_to_dir, \n",
        "                                           save_prefix=save_prefix, save_format='jpg'):\n",
        "            i += 1\n",
        "            if i > n_generated_samples:\n",
        "                break"
      ],
      "execution_count": null,
      "outputs": []
    },
    {
      "cell_type": "markdown",
      "metadata": {
        "id": "J4k2bA42GqNT",
        "colab_type": "text"
      },
      "source": [
        ""
      ]
    },
    {
      "cell_type": "code",
      "metadata": {
        "id": "qJI42XIRrFoF",
        "colab_type": "code",
        "colab": {}
      },
      "source": [
        "import time\n",
        "start_time = time.time()\n",
        "augmented_data_path = '/content/drive/My Drive/aug_new'\n",
        "yes_path='/content/drive/My Drive/yes'\n",
        "no_path='/content/drive/My Drive/no'\n",
        "augment_data(file_dir=yes_path, n_generated_samples=18, save_to_dir=augmented_data_path +'/'+'yes')\n",
        "augment_data(file_dir=no_path, n_generated_samples=25, save_to_dir=augmented_data_path +'/'+'no')\n",
        "end_time = time.time()\n",
        "execution_time = (end_time - start_time)\n",
        "print(f\"Elapsed time: {hms_string(execution_time)}\")"
      ],
      "execution_count": null,
      "outputs": []
    },
    {
      "cell_type": "code",
      "metadata": {
        "id": "sXN5SsdRrJYC",
        "colab_type": "code",
        "colab": {}
      },
      "source": [
        "def data_summary(main_path):\n",
        "    main_path='/content/drive/My Drive/aug_new'\n",
        "    yes_path = main_path +'/'+'yes'\n",
        "    no_path = main_path +'/'+'no'\n",
        "    m_pos = len(listdir(yes_path))\n",
        "    m_neg = len(listdir(no_path))\n",
        "    m = (m_pos+m_neg)\n",
        "    pos_prec = (m_pos* 100.0)/ m\n",
        "    neg_prec = (m_neg* 100.0)/ m\n",
        "    print(f\"Number of examples: {m}\")\n",
        "    print(f\"Percentage of positive examples: {pos_prec}%, number of pos examples: {m_pos}\") \n",
        "    print(f\"Percentage of negative examples: {neg_prec}%, number of neg examples: {m_neg}\")"
      ],
      "execution_count": null,
      "outputs": []
    },
    {
      "cell_type": "code",
      "metadata": {
        "id": "g98bUqjzrMzy",
        "colab_type": "code",
        "colab": {
          "base_uri": "https://localhost:8080/",
          "height": 68
        },
        "outputId": "be3f4895-ef0f-44ef-8f83-a0408c935285"
      },
      "source": [
        "data_summary(augmented_data_path)"
      ],
      "execution_count": null,
      "outputs": [
        {
          "output_type": "stream",
          "text": [
            "Number of examples: 5489\n",
            "Percentage of positive examples: 53.61632355620331%, number of pos examples: 2943\n",
            "Percentage of negative examples: 46.38367644379669%, number of neg examples: 2546\n"
          ],
          "name": "stdout"
        }
      ]
    }
  ]
}